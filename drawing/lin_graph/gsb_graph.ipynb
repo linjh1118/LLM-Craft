{
 "cells": [
  {
   "cell_type": "code",
   "execution_count": null,
   "metadata": {
    "vscode": {
     "languageId": "javascript"
    }
   },
   "outputs": [],
   "source": [
    "// https://echarts.apache.org/examples/zh/editor.html?c=bar-stack-normalization&lang=js\n",
    "// There should not be negative values in rawData\n",
    "// 下边就是现在的代码\n",
    "// # https://echarts.apache.org/examples/zh/editor.html?c=bar-stack-normalization&lang=js&renderer=svg&code=PTAEBUAsFMCdtAZ0gewK4BsAmoB2KAXUAIwV2gHMBDAgSwDcF6qM1pFRbdRYqB3ACI0qAKBEBjFLkRFeg4aAC8oANojQqgIwBWAAwAaUAGZdAJkMnNFowBYLATl0BdQyFABBABT1EAIQCUgIRWgNHqgCFugClygFRygC9-gGV6gMpGgGBKoQDiKChY6qpGpgagmjmGmrpW-baGji6gbl4-ASERMbGhAMpUALbQWSqmuUUAHOb59qWm5aCmldVgtX5BYVFxob5UmU4A3BJSMqAEhCxCBFRKqhsiAGYosKCeGNBEtCe665ygADw8_IdUKs4AdHdcBQCJAXgBqMG0fygADeWTuREQaHaT02Gku11u91AACtUbj3p95EcAdAgSDwWCcdC4RoNEiUWDlHJviocU4VLQzhoAL5ZPZHDDfP4ABzQyE8DP8mz5kmkRAosFoOGUtNAd3OBAAXPldAYskqKJBtbr9Ro9iKdXp9FliIQ9u0rboRDzNnKdog4LR2Cc1BoAORpDL-m0BtqdEOgLL-lZYf0iJx_dpUEWeTy4DrQQyIZXQxQAPlhBvuaFg3DVGgznVDdIIAE8RdAdf7iFRYCGsvSjuIANbNgUsDt0khtgDqypBzYAbLoAKRDukYKikDA6it05AoPg6giwNg14cY5MEAhwHWeEVtjqIPOFgCyNEgf1g6FwWAvV_aiD-zFYCAAVKaujQmAxSgGCoD-vOnagDyB6gFgwg6iywgqDmWCJsmqaeFghhYLmSj5jB5r7EKqH4Rh7zKLooAAPygDROo4GAA5kUcKgUU4MH-FkroutKIgoCKdBSCcap3BQZJYGuMGenc4inlgd4ZE2oDnCwnq8TWirKjWAAe7h6bQiAycO9aNs2v5sPGvI1nWhnGaZtYNqp_riDQlBXHWC4aIhRw6io_qAC6mgDK8oAhuaAGAugDkBpG_qAMWxgDOKjFhj-oAS5GAE5BgAAcoAL4HJZBgAisYACXaAB9ugDOinl_qADyegAxMTFXG2VknpKuwLrrEAA\n",
    "const rawData = [\n",
    "  [150, 302, 301, 334, 390], // A(vsB)模型的五个维度打分的Good\n",
    "  [320, 132, 101, 134, 90], // A(vsB)模型的五个维度的Same\n",
    "  [220, 182, 191, 234, 290] // A(vsB)模型的五个维度的Bad\n",
    "];\n",
    "const totalData = [];\n",
    "for (let i = 0; i < rawData[0].length; ++i) {\n",
    "  let sum = 0;\n",
    "  for (let j = 0; j < rawData.length; ++j) {\n",
    "    sum += rawData[j][i];\n",
    "  }\n",
    "  totalData.push(sum);\n",
    "}\n",
    "const grid = {\n",
    "  left: 100,\n",
    "  right: 100,\n",
    "  top: 50,\n",
    "  bottom: 50\n",
    "};\n",
    "const series = [\n",
    "  'Good',\n",
    "  'Same', \n",
    "  'Bad'\n",
    "].map((name, sid) => {\n",
    "  return {\n",
    "    name,\n",
    "    type: 'bar',\n",
    "    stack: 'total',\n",
    "    barWidth: '60%',\n",
    "    label: {\n",
    "      show: true,\n",
    "      formatter: (params) => Math.round(params.value * 1000) / 10 + '%'\n",
    "    },\n",
    "    data: rawData[sid].map((d, did) =>\n",
    "      totalData[did] <= 0 ? 0 : d / totalData[did]\n",
    "    )\n",
    "  };\n",
    "});\n",
    "option = {\n",
    "  legend: {\n",
    "    selectedMode: false\n",
    "  },\n",
    "  grid,\n",
    "  xAxis: {\n",
    "    type: 'value'\n",
    "  },\n",
    "  yAxis: {\n",
    "    type: 'category',\n",
    "    data: ['整体条理性', '趣味性', '角色一致性', '资源相关性', '礼貌性']\n",
    "  },\n",
    "  series\n",
    "};\n",
    "\n"
   ]
  },
  {
   "cell_type": "markdown",
   "metadata": {},
   "source": [
    "![Alt text](img_v3_02bd_0eaf4977-e824-48d9-b4da-9372f9e8ba0g.jpg)"
   ]
  }
 ],
 "metadata": {
  "language_info": {
   "name": "python"
  },
  "orig_nbformat": 4
 },
 "nbformat": 4,
 "nbformat_minor": 2
}
